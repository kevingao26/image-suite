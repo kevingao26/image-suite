{
 "cells": [
  {
   "cell_type": "code",
   "execution_count": null,
   "metadata": {},
   "outputs": [],
   "source": [
    "!pip3 install opencv-python\n",
    "!pip3 install ffpyplayer\n",
    "!pip3 install imagehash"
   ]
  },
  {
   "cell_type": "code",
   "execution_count": 2,
   "metadata": {},
   "outputs": [],
   "source": [
    "import glob\n",
    "import cv2\n",
    "import numpy as np\n",
    "from ffpyplayer.player import MediaPlayer\n",
    "from PIL import Image\n",
    "import imagehash\n",
    "import os"
   ]
  },
  {
   "cell_type": "markdown",
   "metadata": {},
   "source": [
    "### Finding images"
   ]
  },
  {
   "cell_type": "code",
   "execution_count": 14,
   "metadata": {},
   "outputs": [],
   "source": [
    "directory = 'Documents/Pictures/**/'\n",
    "img_types = ('*.png', '*.jpg', '*.jpeg') # not type sensitive\n",
    "img_list, img_titles = [], []\n",
    "for i in img_types:\n",
    "    img_list.extend(list(map(Image.open, glob.glob(directory + i, recursive=True))))\n",
    "    img_titles.extend(list(glob.glob(directory + i, recursive=True)))\n",
    "    \n",
    "    \n"
   ]
  },
  {
   "cell_type": "code",
   "execution_count": null,
   "metadata": {},
   "outputs": [],
   "source": [
    "img_titles[0:20]"
   ]
  },
  {
   "cell_type": "code",
   "execution_count": null,
   "metadata": {},
   "outputs": [],
   "source": [
    "len(img_titles)"
   ]
  },
  {
   "cell_type": "markdown",
   "metadata": {},
   "source": [
    "#### Display images"
   ]
  },
  {
   "cell_type": "code",
   "execution_count": 17,
   "metadata": {},
   "outputs": [],
   "source": [
    "#img_list[2].show()"
   ]
  },
  {
   "cell_type": "markdown",
   "metadata": {},
   "source": [
    "### Image duplicates (fast)\n",
    "\n",
    "Sorts out images by size first, then uses hashmap.\n",
    "\n",
    "Thresholds can be adjusted according to needs."
   ]
  },
  {
   "cell_type": "code",
   "execution_count": null,
   "metadata": {},
   "outputs": [],
   "source": [
    "sizes = {}\n",
    "\n",
    "for i in np.arange(len(img_list)):\n",
    "    file_size = img_list[i].size\n",
    "    file = img_list[i]\n",
    "    if (file_size) not in sizes:\n",
    "        sizes[file_size] = [file]\n",
    "    else:\n",
    "        sizes[file_size].append(file)\n",
    "\n",
    "size_matches = [v for v in sizes.values() if len(v) > 1]\n",
    "\n",
    "delete_list = []\n",
    "for k in np.arange(len(size_matches)):\n",
    "    for i in np.arange(len(size_matches[k])):\n",
    "        for j in np.arange(i):\n",
    "            if i != j:\n",
    "                diff = imagehash.average_hash(size_matches[k][i]) - imagehash.average_hash(size_matches[k][j])\n",
    "                if diff < 10:\n",
    "                    print(\"Threshold: \" + str(diff))\n",
    "                    print(size_matches[k][i].filename)\n",
    "                    print(size_matches[k][j].filename)\n",
    "                    print()\n",
    "                if diff == 0:\n",
    "                    delete_list.append(size_matches[k][j].filename)"
   ]
  },
  {
   "cell_type": "code",
   "execution_count": null,
   "metadata": {},
   "outputs": [],
   "source": [
    "len(delete_list), delete_list"
   ]
  },
  {
   "cell_type": "code",
   "execution_count": 12,
   "metadata": {},
   "outputs": [],
   "source": [
    "for file in delete_list:\n",
    "    if os.path.exists(file):\n",
    "        os.remove(file)"
   ]
  },
  {
   "cell_type": "markdown",
   "metadata": {},
   "source": [
    "### Image duplicates (slow)\n",
    "\n",
    "O(n^2 / 2)"
   ]
  },
  {
   "cell_type": "code",
   "execution_count": null,
   "metadata": {},
   "outputs": [],
   "source": [
    "for i in np.arange(len(img_list)):\n",
    "    for j in np.arange(i):\n",
    "        if i != j:\n",
    "            diff = imagehash.average_hash(img_list[i]) - imagehash.average_hash(img_list[j])\n",
    "            if diff < 10:\n",
    "                print(\"Threshold: \" + str(diff))\n",
    "                print(img_titles[i])\n",
    "                print(img_titles[j])\n",
    "                print()"
   ]
  }
 ],
 "metadata": {
  "kernelspec": {
   "display_name": "Python 3",
   "language": "python",
   "name": "python3"
  },
  "language_info": {
   "codemirror_mode": {
    "name": "ipython",
    "version": 3
   },
   "file_extension": ".py",
   "mimetype": "text/x-python",
   "name": "python",
   "nbconvert_exporter": "python",
   "pygments_lexer": "ipython3",
   "version": "3.8.5"
  }
 },
 "nbformat": 4,
 "nbformat_minor": 4
}
